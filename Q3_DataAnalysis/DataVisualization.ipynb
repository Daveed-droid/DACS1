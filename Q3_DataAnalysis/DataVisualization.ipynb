{
 "cells": [
  {
   "cell_type": "code",
   "execution_count": 8,
   "id": "initial_id",
   "metadata": {
    "collapsed": true,
    "ExecuteTime": {
     "end_time": "2024-04-08T21:17:56.195974800Z",
     "start_time": "2024-04-08T21:17:56.189973500Z"
    }
   },
   "outputs": [],
   "source": [
    "import pickle\n",
    "import numpy as np\n",
    "from AssignmentData import Lamina_props\n",
    "from LaminaClass import Lamina\n",
    "from LaminateClass import Laminate\n",
    "import matplotlib.pyplot as plt\n",
    "from tqdm import tqdm\n",
    "from scipy.stats import norm"
   ]
  },
  {
   "cell_type": "markdown",
   "source": [
    "Loading Data"
   ],
   "metadata": {
    "collapsed": false
   },
   "id": "e6f945add910ee56"
  },
  {
   "cell_type": "code",
   "outputs": [],
   "source": [
    "n = [12500*2**i for i in range(0,11)]\n",
    "FPF1200 = []\n",
    "meanStd1200 = []\n",
    "for i, ni in enumerate(n):\n",
    "    with open(f'Data/reliability_analysis_Load1200_n{ni}_FPF.pkl', \"rb\") as f:\n",
    "        FPF1200.append([pickle.load(f)])\n",
    "    f.close()\n",
    "    with open(f'Data/reliability_analysis_Load1200_n{ni}_meanStd.pkl', 'rb') as f:  # open a text file\n",
    "        meanStd1200.append(pickle.load(f)) # serialize the list\n",
    "    f.close()"
   ],
   "metadata": {
    "collapsed": false,
    "ExecuteTime": {
     "end_time": "2024-04-08T21:17:56.240661900Z",
     "start_time": "2024-04-08T21:17:56.192975100Z"
    }
   },
   "id": "a152f1f90de697ff",
   "execution_count": 9
  },
  {
   "cell_type": "code",
   "outputs": [
    {
     "name": "stdout",
     "output_type": "stream",
     "text": [
      "[12500, 25000, 50000, 100000, 200000, 400000, 800000, 1600000, 3200000, 6400000, 12800000]\n",
      "Mean = 1.5767700420249564\n",
      "Std = 0.08014211586093821\n",
      "Failure Prob:  0.0\n",
      "Failure Prob (Normal Fit):  3.0811840910640434e-13\n",
      "Mean = 1.576959350454025\n",
      "Std = 0.08004154089764383\n",
      "Failure Prob:  0.0\n",
      "Failure Prob (Normal Fit):  2.833797906793374e-13\n",
      "Mean = 1.577177284171569\n",
      "Std = 0.08046417190973698\n",
      "Failure Prob:  0.0\n",
      "Failure Prob (Normal Fit):  3.6660018262371913e-13\n",
      "Mean = 1.577750594533592\n",
      "Std = 0.08051344945728271\n",
      "Failure Prob:  0.0\n",
      "Failure Prob (Normal Fit):  3.593566283801844e-13\n",
      "Mean = 1.577672215554119\n",
      "Std = 0.08051681470889716\n",
      "Failure Prob:  0.0\n",
      "Failure Prob (Normal Fit):  3.6271706704015615e-13\n",
      "Mean = 1.5775763228818551\n",
      "Std = 0.08052703744091307\n",
      "Failure Prob:  0.0\n",
      "Failure Prob (Normal Fit):  3.6833083419303423e-13\n",
      "Mean = 1.577707558195591\n",
      "Std = 0.08061190765203981\n",
      "Failure Prob:  0.0\n",
      "Failure Prob (Normal Fit):  3.8461610207836995e-13\n",
      "Mean = 1.5775047228451293\n",
      "Std = 0.08059767905112881\n",
      "Failure Prob:  0.0\n",
      "Failure Prob (Normal Fit):  3.881461882082192e-13\n",
      "Mean = 1.5776195296495314\n",
      "Std = 0.08057028138042956\n",
      "Failure Prob:  0.0\n",
      "Failure Prob (Normal Fit):  3.7735507589327217e-13\n",
      "Mean = 1.5776057107074908\n",
      "Std = 0.08057535342754563\n",
      "Failure Prob:  0.0\n",
      "Failure Prob (Normal Fit):  3.790753556775247e-13\n",
      "Mean = 1.577600758837062\n",
      "Std = 0.08055923020261259\n",
      "Failure Prob:  0.0\n",
      "Failure Prob (Normal Fit):  3.752923024276972e-13\n"
     ]
    },
    {
     "data": {
      "text/plain": "<Figure size 640x480 with 0 Axes>"
     },
     "metadata": {},
     "output_type": "display_data"
    }
   ],
   "source": [
    "plt.clf()\n",
    "con1200 = []\n",
    "print(n)\n",
    "for i in range(11):\n",
    "    plt.hist(FPF1200[i], bins=500)\n",
    "    plt.title(f\"N = {n[i]}\")\n",
    "    plt.xlabel(\"Ratio First Ply Failure Load to Design Load\")\n",
    "    plt.ylabel(\"Frequency\")\n",
    "    plt.tight_layout()\n",
    "    plt.savefig(f\"Plots/1200samples{n[i]}\")\n",
    "    plt.clf()\n",
    "    mean, std = meanStd1200[i]\n",
    "    print(f\"Mean = {mean}\")\n",
    "    print(f\"Std = {std}\")\n",
    "    a = np.asarray(FPF1200[i])\n",
    "    b = np.sum(a<=1)\n",
    "    Pf = b/len(FPF1200[i])\n",
    "    print(\"Failure Prob: \", Pf)\n",
    "    print(\"Failure Prob (Normal Fit): \", norm.cdf(1, mean, std))\n",
    "    con1200.append(norm.cdf(1, mean, std))\n",
    "    \n",
    "    x = np.linspace(0.5, mean + 3*std, 300)\n",
    "    # plt.hist(FPF)\n",
    "    # plt.show()\n",
    "    plt.plot(x, norm.pdf(x, mean, std))\n",
    "    x = np.linspace(0.5, 1, 100)\n",
    "    plt.fill_between(x, norm.pdf(x, mean, std), x*0)\n",
    "    plt.title(f\"N = {n[i]}\")\n",
    "    plt.xlabel(\"Ratio First Ply Failure Load to Design Load\")\n",
    "    plt.ylabel(\"Probability\")\n",
    "    plt.savefig(f\"Plots/1200samplesFit{n[i]}\")\n",
    "    plt.clf()\n",
    "    # print(\"Failure Prob: \", norm.cdf(1, mean, std))\n",
    "    # return mean, std, norm.cdf(1, mean, std)"
   ],
   "metadata": {
    "collapsed": false,
    "ExecuteTime": {
     "end_time": "2024-04-08T21:18:00.631754800Z",
     "start_time": "2024-04-08T21:17:56.242661800Z"
    }
   },
   "id": "473c83317cbd6d1c",
   "execution_count": 10
  },
  {
   "cell_type": "code",
   "outputs": [],
   "source": [
    "FPF850 = []\n",
    "meanStd850 = []\n",
    "for i, ni in enumerate(n):\n",
    "    with open(f'Data/reliability_analysis_Load850_n{ni}_FPF.pkl', \"rb\") as f:\n",
    "        FPF850.append([pickle.load(f)])\n",
    "    f.close()\n",
    "    with open(f'Data/reliability_analysis_Load850_n{ni}_meanStd.pkl', 'rb') as f:  # open a text file\n",
    "        meanStd850.append(pickle.load(f)) # serialize the list\n",
    "    f.close()"
   ],
   "metadata": {
    "collapsed": false,
    "ExecuteTime": {
     "end_time": "2024-04-08T21:18:00.681985800Z",
     "start_time": "2024-04-08T21:18:00.629754100Z"
    }
   },
   "id": "fedeb5f7bcba9f3e",
   "execution_count": 11
  },
  {
   "cell_type": "code",
   "outputs": [
    {
     "name": "stdout",
     "output_type": "stream",
     "text": [
      "[12500, 25000, 50000, 100000, 200000, 400000, 800000, 1600000, 3200000, 6400000, 12800000]\n",
      "Mean = 2.2260282946234677\n",
      "Std = 0.11314181062720689\n",
      "Failure Prob:  0.0\n",
      "Failure Prob (Normal Fit):  1.1594109970067208e-27\n",
      "Mean = 2.2262955535821534\n",
      "Std = 0.11299982244373245\n",
      "Failure Prob:  0.0\n",
      "Failure Prob (Normal Fit):  9.735161765567706e-28\n",
      "Mean = 2.2266032247128034\n",
      "Std = 0.1135964779902169\n",
      "Failure Prob:  0.0\n",
      "Failure Prob (Normal Fit):  1.760860609448038e-27\n",
      "Mean = 2.2274126040474234\n",
      "Std = 0.11366604629263445\n",
      "Failure Prob:  0.0\n",
      "Failure Prob (Normal Fit):  1.7510721505304464e-27\n",
      "Mean = 2.2273019513705212\n",
      "Std = 0.11367079723609011\n",
      "Failure Prob:  0.0\n",
      "Failure Prob (Normal Fit):  1.7784502299713887e-27\n",
      "Mean = 2.2271665734802664\n",
      "Std = 0.11368522932834783\n",
      "Failure Prob:  0.0\n",
      "Failure Prob (Normal Fit):  1.8287424247810087e-27\n",
      "Mean = 2.2273518468643636\n",
      "Std = 0.11380504609699742\n",
      "Failure Prob:  0.0\n",
      "Failure Prob (Normal Fit):  2.0331171759532294e-27\n",
      "Mean = 2.227065491075476\n",
      "Std = 0.1137849586604172\n",
      "Failure Prob:  0.0\n",
      "Failure Prob (Normal Fit):  2.046710612352726e-27\n",
      "Mean = 2.227227571269929\n",
      "Std = 0.11374627959590057\n",
      "Failure Prob:  0.0\n",
      "Failure Prob (Normal Fit):  1.9364259413880743e-27\n",
      "Mean = 2.227208062175283\n",
      "Std = 0.11375344013300552\n",
      "Failure Prob:  0.0\n",
      "Failure Prob (Normal Fit):  1.954430909872311e-27\n",
      "Mean = 2.227201071299386\n",
      "Std = 0.11373067793310013\n",
      "Failure Prob:  0.0\n",
      "Failure Prob (Normal Fit):  1.910327681388e-27\n"
     ]
    },
    {
     "data": {
      "text/plain": "<Figure size 640x480 with 0 Axes>"
     },
     "metadata": {},
     "output_type": "display_data"
    }
   ],
   "source": [
    "plt.clf()\n",
    "con850 = []\n",
    "print(n)\n",
    "for i in range(11):\n",
    "    plt.hist(FPF850[i], bins=500)\n",
    "    plt.title(f\"N = {n[i]}\")\n",
    "    plt.xlabel(\"Ratio First Ply Failure Load to Design Load\")\n",
    "    plt.ylabel(\"Frequency\")\n",
    "    plt.tight_layout()\n",
    "    plt.savefig(f\"Plots/850samples{n[i]}\")\n",
    "    plt.clf()\n",
    "    mean, std = meanStd850[i]\n",
    "    print(f\"Mean = {mean}\")\n",
    "    print(f\"Std = {std}\")\n",
    "    a = np.asarray(FPF850[i])\n",
    "    b = np.sum(a<=1)\n",
    "    Pf = b/len(FPF850[i])\n",
    "    print(\"Failure Prob: \", Pf)\n",
    "    print(\"Failure Prob (Normal Fit): \", norm.cdf(1, mean, std))\n",
    "    con850.append(norm.cdf(1, mean, std))\n",
    "    \n",
    "    x = np.linspace(0.5, mean + 3*std, 300)\n",
    "    # plt.hist(FPF)\n",
    "    # plt.show()\n",
    "    # plt.clf()\n",
    "    plt.plot(x, norm.pdf(x, mean, std))\n",
    "    x = np.linspace(0.5, 1, 100)\n",
    "    plt.fill_between(x, norm.pdf(x, mean, std), x*0)\n",
    "    plt.title(f\"N = {n[i]}\")\n",
    "    plt.xlabel(\"Ratio First Ply Failure Load to Design Load\")\n",
    "    plt.ylabel(\"Probability\")\n",
    "    plt.savefig(f\"Plots/850samplesFit{n[i]}\")\n",
    "    plt.clf()\n",
    "    # print(\"Failure Prob: \", norm.cdf(1, mean, std))\n",
    "    # return mean, std, norm.cdf(1, mean, std)"
   ],
   "metadata": {
    "collapsed": false,
    "ExecuteTime": {
     "end_time": "2024-04-08T21:18:04.969036100Z",
     "start_time": "2024-04-08T21:18:00.684985900Z"
    }
   },
   "id": "43ad91fca27f4077",
   "execution_count": 12
  },
  {
   "cell_type": "code",
   "outputs": [
    {
     "data": {
      "text/plain": "<Figure size 640x480 with 0 Axes>"
     },
     "metadata": {},
     "output_type": "display_data"
    }
   ],
   "source": [
    "x = range(len(con1200))\n",
    "plt.plot(x, con1200, marker=\"X\", color=\"blue\")\n",
    "plt.title(\"Convergence Plot\")\n",
    "plt.ylabel(\"Probability of Failure\")\n",
    "plt.xlabel(\"Number of Samples\")\n",
    "plt.plot([x[0],x[-1]], [con1200[-1]*1.05, con1200[-1]*1.05], linestyle=\"--\", color=\"red\")\n",
    "plt.plot([x[0],x[-1]], [con1200[-1]*0.95, con1200[-1]*0.95], linestyle=\"--\", color=\"red\")\n",
    "plt.savefig(\"Plots/Convergence1200\")\n",
    "plt.clf()"
   ],
   "metadata": {
    "collapsed": false,
    "ExecuteTime": {
     "end_time": "2024-04-08T21:18:05.028378100Z",
     "start_time": "2024-04-08T21:18:04.966035100Z"
    }
   },
   "id": "a968920ed855cfdf",
   "execution_count": 13
  },
  {
   "cell_type": "code",
   "outputs": [
    {
     "data": {
      "text/plain": "<Figure size 640x480 with 0 Axes>"
     },
     "metadata": {},
     "output_type": "display_data"
    }
   ],
   "source": [
    "x = range(len(con850))\n",
    "plt.plot(x, con850, marker=\"X\", color=\"blue\")\n",
    "plt.title(\"Convergence Plot\")\n",
    "plt.ylabel(\"Probability of Failure\")\n",
    "plt.xlabel(\"Number of Samples\")\n",
    "plt.plot([x[0],x[-1]], [con850[-1]*1.05, con850[-1]*1.05], linestyle=\"--\", color=\"red\")\n",
    "plt.plot([x[0],x[-1]], [con850[-1]*0.95, con850[-1]*0.95], linestyle=\"--\", color=\"red\")\n",
    "plt.savefig(\"Plots/Convergence850\")\n",
    "plt.clf()"
   ],
   "metadata": {
    "collapsed": false,
    "ExecuteTime": {
     "end_time": "2024-04-08T21:18:05.090984100Z",
     "start_time": "2024-04-08T21:18:05.026377800Z"
    }
   },
   "id": "2d259e44c98db97f",
   "execution_count": 14
  },
  {
   "cell_type": "code",
   "outputs": [],
   "source": [],
   "metadata": {
    "collapsed": false,
    "ExecuteTime": {
     "end_time": "2024-04-08T21:18:05.093979400Z",
     "start_time": "2024-04-08T21:18:05.090475300Z"
    }
   },
   "id": "34259ba1c566f09b",
   "execution_count": 14
  }
 ],
 "metadata": {
  "kernelspec": {
   "display_name": "Python 3",
   "language": "python",
   "name": "python3"
  },
  "language_info": {
   "codemirror_mode": {
    "name": "ipython",
    "version": 2
   },
   "file_extension": ".py",
   "mimetype": "text/x-python",
   "name": "python",
   "nbconvert_exporter": "python",
   "pygments_lexer": "ipython2",
   "version": "2.7.6"
  }
 },
 "nbformat": 4,
 "nbformat_minor": 5
}
